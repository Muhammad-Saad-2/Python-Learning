{
 "cells": [
  {
   "cell_type": "markdown",
   "metadata": {},
   "source": [
    "# Dictionary \n",
    "* key:value (items)\n",
    "    * key replacement of indexes\n",
    "    * value items \n",
    "* dict_variable[key]\n",
    "    * dict_variable[new_key] = new_value\n",
    "        * add new value\n",
    "        * update value \n",
    "\n"
   ]
  },
  {
   "cell_type": "code",
   "execution_count": 34,
   "metadata": {},
   "outputs": [
    {
     "name": "stdout",
     "output_type": "stream",
     "text": [
      "{' Name': 'Saad', 'Education': 'Intermediate', 'Fname': 'jameel'}\n"
     ]
    }
   ],
   "source": [
    "from typing import Dict,  Union, Optional\n",
    "import pprint \n",
    "\n",
    "key = Union[int, str, float]   # Create custom type \n",
    "value = Union[int, str, float, dict, tuple, list, bool]\n",
    "\n",
    "\n",
    "\n",
    "Biodata : Dict[key, value] = {\n",
    "                              \" Name\" : \"Saad\",\n",
    "                              \"Fname\" : \"jameel\",\n",
    "                              \"Education\"  : \"Intermediate\"  \n",
    "                             }\n",
    "\n",
    "pprint.pprint(Biodata)\n",
    "                             \n",
    "\n",
    "                            \n",
    "\n",
    "\n"
   ]
  },
  {
   "cell_type": "code",
   "execution_count": 38,
   "metadata": {},
   "outputs": [
    {
     "name": "stdout",
     "output_type": "stream",
     "text": [
      "{'DOB': '2002', 'Name': 'Saad', 'Fname': 'jameel', 'Education': 'Intermediate', 'abc': [1, 2, 3], 'cde': (1, 2, 3), 'efg': {'c': 1, 'd': 2}}\n",
      "Saad\n",
      "Intermediate\n",
      "2002\n",
      "1\n"
     ]
    }
   ],
   "source": [
    "from typing import Dict,  Union, Optional\n",
    "import pprint \n",
    "\n",
    "key = Union[int, str, float]   # Create custom type \n",
    "value = Union[int, str, float, dict, list, bool]\n",
    "\n",
    "\n",
    "\n",
    "biodata : Dict[key, value] = {\"DOB\" : \"2002\",\n",
    "                              \"Name\" : \"Saad\",\n",
    "                              \"Fname\" : \"jameel\",\n",
    "                              \"Education\"  : \"Intermediate\", \n",
    "                              \"abc\" : [1,2,3],\n",
    "                              \"cde\" : (1,2,3),\n",
    "                              \"efg\" : {\"c\": 1, \"d\" : 2}\n",
    "                             }\n",
    "\n",
    "print(biodata)    \n",
    "print(biodata[\"Name\"])\n",
    "print(biodata[\"Education\"])\n",
    "print(biodata[\"DOB\"])  \n",
    "\n",
    "                   "
   ]
  },
  {
   "cell_type": "code",
   "execution_count": 40,
   "metadata": {},
   "outputs": [
    {
     "name": "stdout",
     "output_type": "stream",
     "text": [
      "1\n"
     ]
    },
    {
     "data": {
      "text/plain": [
       "['clear',\n",
       " 'copy',\n",
       " 'fromkeys',\n",
       " 'get',\n",
       " 'items',\n",
       " 'keys',\n",
       " 'pop',\n",
       " 'popitem',\n",
       " 'setdefault',\n",
       " 'update',\n",
       " 'values']"
      ]
     },
     "execution_count": 40,
     "metadata": {},
     "output_type": "execute_result"
    }
   ],
   "source": [
    "from typing import Dict,  Union, Optional\n",
    "import pprint \n",
    "\n",
    "key = Union[int, str, float]   # Create custom type \n",
    "value = Union[int, str, float, dict, list, bool]\n",
    "\n",
    "\n",
    "\n",
    "biodata : Dict[key, value] = {\"DOB\" : \"2002\",\n",
    "                              \"Name\" : \"Saad\",\n",
    "                              \"Fname\" : \"jameel\",\n",
    "                              \"Education\"  : \"Intermediate\", \n",
    "                              \"abc\" : [1,2,3],\n",
    "                              \"cde\" : (1,2,3),\n",
    "                              \"efg\" : {\"c\": 1, \"d\" : 2}\n",
    "                             }\n",
    "\n",
    "print (biodata[\"efg\"][\"c\"])\n",
    "\n",
    "[i for i in dir(biodata) if \"__\" not in i]"
   ]
  },
  {
   "cell_type": "markdown",
   "metadata": {},
   "source": [
    "# get function\n",
    "    * Python ki get function ka istemal dictionaries mein kisi key ke sath associated value hasil karne ke liye hota hai. Yeh ek tareeka hai jaise agar aap kisi dictionary se koi cheez pooch rahe hain. Agar woh key dictionary mein mojood hai toh woh us key ke sath associated value de dega, lekin agar key mojood na ho toh yeh kisi error ko rokne ke liye default value return karega (ya agar default value nahi di gayi toh None dega). Yeh ek safe tareeka hai dictionary ki values ko access karne ka, bina fikar kiye agar key mojood nahi hai.\n",
    "    "
   ]
  },
  {
   "cell_type": "code",
   "execution_count": 41,
   "metadata": {},
   "outputs": [
    {
     "name": "stdout",
     "output_type": "stream",
     "text": [
      "NA\n",
      "Muhammad Qasim\n"
     ]
    },
    {
     "data": {
      "text/plain": [
       "['clear',\n",
       " 'copy',\n",
       " 'fromkeys',\n",
       " 'get',\n",
       " 'items',\n",
       " 'keys',\n",
       " 'pop',\n",
       " 'popitem',\n",
       " 'setdefault',\n",
       " 'update',\n",
       " 'values']"
      ]
     },
     "execution_count": 41,
     "metadata": {},
     "output_type": "execute_result"
    }
   ],
   "source": [
    "from typing import Dict, Union, Optional\n",
    "import pprint\n",
    "\n",
    "\n",
    "Key = Union[int,str] # create custom type\n",
    "Value = Union[int, str, list, dict, tuple, set]\n",
    "\n",
    "data : Dict[Key,Value] = {\n",
    "                        \"fname\":\"Muhammad Aslam\",\n",
    "                        \"name\":\"Muhammad Qasim\",\n",
    "                        \"education\": \"MSDS\"}\n",
    "\n",
    "\n",
    "#                 key\n",
    "print(data.get('pakistan',\"NA\"))\n",
    "print(data.get('name',\"NA\"))\n",
    "\n",
    "[i for i in dir(data) if \"__\" not in i]"
   ]
  },
  {
   "cell_type": "markdown",
   "metadata": {},
   "source": [
    "# (.keys), (.values), (.items) functions "
   ]
  },
  {
   "cell_type": "code",
   "execution_count": 4,
   "metadata": {},
   "outputs": [
    {
     "name": "stdout",
     "output_type": "stream",
     "text": [
      "dict_keys(['fname', 'name', 'education'])\n",
      "dict_values(['Muhammad Aslam', 'Muhammad Qasim', 'MSDS'])\n",
      "dict_items([('fname', 'Muhammad Aslam'), ('name', 'Muhammad Qasim'), ('education', 'MSDS')])\n"
     ]
    }
   ],
   "source": [
    "from typing import Dict, Union, Optional\n",
    "import pprint\n",
    "\n",
    "\n",
    "Key = Union[int,str] # create custom type\n",
    "Value = Union[int, str, list, dict, tuple, set]\n",
    "\n",
    "data : Dict[Key,Value] = {\n",
    "                        \"fname\":\"Muhammad Aslam\",\n",
    "                        \"name\":\"Muhammad Qasim\",\n",
    "                        \"education\": \"MSDS\"}\n",
    "\n",
    "print(data.keys())  \n",
    "print(data.values())      \n",
    "print(data.items())                "
   ]
  },
  {
   "cell_type": "code",
   "execution_count": 1,
   "metadata": {},
   "outputs": [
    {
     "name": "stdout",
     "output_type": "stream",
     "text": [
      "Muhammad Aslam\n",
      "Muhammad Qasim\n",
      "MSDS\n"
     ]
    }
   ],
   "source": [
    "# handling dcitionaries with for loop\n",
    "\n",
    "from typing import Dict, Union, Optional\n",
    "import pprint\n",
    "\n",
    "\n",
    "Key = Union[int,str] # create custom type\n",
    "Value = Union[int, str, list, dict, tuple, set]\n",
    "\n",
    "data : Dict[Key,Value] = {\n",
    "                        \"fname\":\"Muhammad Aslam\",\n",
    "                        \"name\":\"Muhammad Qasim\",\n",
    "                        \"education\": \"MSDS\"\n",
    "                        }\n",
    "for k in data.keys():\n",
    "    print(k)"
   ]
  },
  {
   "cell_type": "code",
   "execution_count": 13,
   "metadata": {},
   "outputs": [
    {
     "name": "stdout",
     "output_type": "stream",
     "text": [
      "Muhammad Aslam\n",
      "Muhammad Qasim\n",
      "MSDS\n"
     ]
    }
   ],
   "source": [
    "\n",
    "from typing import Dict, Union, Optional\n",
    "import pprint\n",
    "\n",
    "\n",
    "Key = Union[int,str] # create custom type\n",
    "Value = Union[int, str, list, dict, tuple, set]\n",
    "\n",
    "data : Dict[Key,Value] = {\n",
    "                        \"fname\":\"Muhammad Aslam\",\n",
    "                        \"name\":\"Muhammad Qasim\",\n",
    "                        \"education\": \"MSDS\"\n",
    "                        }\n",
    "\n",
    "for v in data.values():\n",
    "    print(v)"
   ]
  },
  {
   "cell_type": "code",
   "execution_count": 1,
   "metadata": {},
   "outputs": [
    {
     "name": "stdout",
     "output_type": "stream",
     "text": [
      "fname Muhammad Aslam\n",
      "name Muhammad Qasim\n",
      "education MSDS\n"
     ]
    }
   ],
   "source": [
    "\n",
    "from typing import Dict, Union, Optional\n",
    "import pprint\n",
    "\n",
    "\n",
    "Key = Union[int,str] # create custom type\n",
    "Value = Union[int, str, list, dict, tuple, set]\n",
    "\n",
    "data : Dict[Key,Value] = {\n",
    "                        \"fname\":\"Muhammad Aslam\",\n",
    "                        \"name\":\"Muhammad Qasim\",\n",
    "                        \"education\": \"MSDS\"\n",
    "                        }\n",
    "\n",
    "for k, v in data.items():\n",
    "    print(k, v)"
   ]
  },
  {
   "cell_type": "markdown",
   "metadata": {},
   "source": [
    "# Dictionary Comprehensive \n"
   ]
  },
  {
   "cell_type": "code",
   "execution_count": 20,
   "metadata": {},
   "outputs": [
    {
     "data": {
      "text/plain": [
       "{'Muhammad Aslam': 'fname', 'Muhammad Qasim': 'name', 'MSDS': 'education'}"
      ]
     },
     "execution_count": 20,
     "metadata": {},
     "output_type": "execute_result"
    }
   ],
   "source": [
    "\n",
    "# if want to shuffle key into values and values into key \n",
    "{v:k for k, v in data.items()}\n",
    "\n",
    "\n",
    "    "
   ]
  },
  {
   "cell_type": "code",
   "execution_count": 1,
   "metadata": {},
   "outputs": [
    {
     "data": {
      "text/plain": [
       "5.0"
      ]
     },
     "execution_count": 1,
     "metadata": {},
     "output_type": "execute_result"
    }
   ],
   "source": [
    "import math \n",
    "abc = math.sqrt(25)\n",
    "abc"
   ]
  },
  {
   "cell_type": "code",
   "execution_count": 19,
   "metadata": {},
   "outputs": [
    {
     "name": "stdout",
     "output_type": "stream",
     "text": [
      "you were thinking of the number 67\n"
     ]
    }
   ],
   "source": [
    "from typing import Union\n",
    "random_number:int = range(1,100)\n",
    "input_number: Union[int, float] = int(input(\"Choose the number between 1 to 100\"))\n",
    "\n",
    "if input_number in random_number: \n",
    "    print(f\"you were thinking of the number {input_number}\")\n",
    "\n",
    "    "
   ]
  }
 ],
 "metadata": {
  "kernelspec": {
   "display_name": "base",
   "language": "python",
   "name": "python3"
  },
  "language_info": {
   "codemirror_mode": {
    "name": "ipython",
    "version": 3
   },
   "file_extension": ".py",
   "mimetype": "text/x-python",
   "name": "python",
   "nbconvert_exporter": "python",
   "pygments_lexer": "ipython3",
   "version": "3.12.3"
  }
 },
 "nbformat": 4,
 "nbformat_minor": 2
}
