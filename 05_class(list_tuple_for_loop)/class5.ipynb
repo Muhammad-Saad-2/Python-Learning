{
 "cells": [
  {
   "cell_type": "code",
   "execution_count": 5,
   "metadata": {},
   "outputs": [
    {
     "name": "stdout",
     "output_type": "stream",
     "text": [
      "Sir Zia\n",
      "Muhammad Qasim\n",
      "DR Noman\n",
      "Hello World\n"
     ]
    }
   ],
   "source": [
    "names:list[str] = ['Sir Zia', \"Muhammad Qasim\", \"DR Noman\"]\n",
    "\n",
    "for name in names:\n",
    "    print(name)\n",
    "    \n",
    "\n",
    "\n",
    "# Sir zia\n",
    "# \"Muhammad Qasim\"\n",
    "# DR Noman"
   ]
  },
  {
   "cell_type": "code",
   "execution_count": 1,
   "metadata": {},
   "outputs": [
    {
     "name": "stdout",
     "output_type": "stream",
     "text": [
      "Sir Zia\n",
      "Muhammad Qasim\n",
      "DR Noman\n"
     ]
    }
   ],
   "source": [
    "# old Method\n",
    "\n",
    "names = ['Sir Zia', \"Muhammad Qasim\", \"DR Noman\"]\n",
    "\n",
    "i: int = 0  # Initializing a variable 'i' with an integer value of 0 (optional in Python)\n",
    "while i < len(names):  # A while loop that continues as long as 'i' is less than the length of the 'names' list\n",
    "    print(names[i])  # Print the element at the current index 'i' in the 'names' list\n",
    "    i += 1  # Increment the value of 'i' by 1 in each iteration\n"
   ]
  },
  {
   "cell_type": "code",
   "execution_count": 10,
   "metadata": {},
   "outputs": [
    {
     "name": "stdout",
     "output_type": "stream",
     "text": [
      "welcome Dear Teacher/nSir Zia\n",
      "welcome Dear Teacher/nMuhammad Qasim\n",
      "welcome Dear Teacher/nDr Noman\n"
     ]
    }
   ],
   "source": [
    "names:list[str] = ('Sir Zia',\"Muhammad Qasim\", \"DR Noman\")\n",
    "\n",
    "for name in names:\n",
    "    print(f'welcome Dear Teacher{name.title()}')"
   ]
  },
  {
   "cell_type": "code",
   "execution_count": 12,
   "metadata": {},
   "outputs": [
    {
     "name": "stdout",
     "output_type": "stream",
     "text": [
      "welcome Dear TeacherSir Zia\n",
      "Pakistan Zindabad\n",
      "\n",
      "welcome Dear TeacherMuhammad Qasim\n",
      "Pakistan Zindabad\n",
      "\n",
      "welcome Dear TeacherDr Noman\n",
      "Pakistan Zindabad\n",
      "\n"
     ]
    }
   ],
   "source": [
    "names:list[str] = ('Sir Zia',\"Muhammad Qasim\", \"DR Noman\")\n",
    "\n",
    "for name in names:\n",
    "    print(f'welcome Dear Teacher{name.title()}')\n",
    "    print('Pakistan Zindabad\\n')\n"
   ]
  },
  {
   "cell_type": "code",
   "execution_count": 3,
   "metadata": {},
   "outputs": [
    {
     "name": "stdout",
     "output_type": "stream",
     "text": [
      "valid user Homelander\n"
     ]
    }
   ],
   "source": [
    "compoundv_vault: list[tuple[str, str ]] = [(\"Homelander\", '1234' ),      #creating database\n",
    "                                     (\"BlackNoir\", '9871'),      \n",
    "                                     (\"Starlight\", '7654')\n",
    "                                     ]\n",
    "user_name:str = input(\"Enter Your Name\")          #creating input function\n",
    "user_pin:str  = input(\"Enter your pin\")\n",
    "\n",
    "for row in compoundv_vault:                     #creating the logic\n",
    "    name, pin = row\n",
    "    if user_name == name and user_pin == pin:\n",
    "        print(f\"valid user {name}\")\n",
    "        break\n",
    "else:\n",
    "    print(\"record not found\")    \n",
    "\n",
    "    \n"
   ]
  },
  {
   "cell_type": "code",
   "execution_count": 6,
   "metadata": {},
   "outputs": [
    {
     "name": "stdout",
     "output_type": "stream",
     "text": [
      "Alice, that was a great trick!\n",
      "David, that was a great trick!\n",
      "Carolina, that was a great trick!\n",
      "I can't wait to see your next trick, Carolina.\n",
      "\n"
     ]
    }
   ],
   "source": [
    "magicians: list[str] = ['alice', 'david', 'carolina']\n",
    "for magician in magicians:\n",
    "    print(f\"{magician.title()}, that was a great trick!\")\n",
    "    \n",
    "\n",
    "print(f\"I can't wait to see your next trick, {magician.title()}.\\n\") "
   ]
  },
  {
   "cell_type": "markdown",
   "metadata": {},
   "source": [
    "# Numbers with Loop\n",
    "* range(start,end,step)"
   ]
  },
  {
   "cell_type": "code",
   "execution_count": 9,
   "metadata": {},
   "outputs": [
    {
     "name": "stdout",
     "output_type": "stream",
     "text": [
      "2 x 1 = 2\n",
      "2 x 2 = 4\n",
      "2 x 3 = 6\n",
      "2 x 4 = 8\n",
      "2 x 5 = 10\n",
      "2 x 6 = 12\n",
      "2 x 7 = 14\n",
      "2 x 8 = 16\n",
      "2 x 9 = 18\n",
      "2 x 10 = 20\n"
     ]
    }
   ],
   "source": [
    "for n in range(1, 11):\n",
    "    print(f\"{2} x {n} = {n * 2}\")"
   ]
  },
  {
   "cell_type": "code",
   "execution_count": 11,
   "metadata": {},
   "outputs": [
    {
     "name": "stdout",
     "output_type": "stream",
     "text": [
      "1\n",
      "5\n",
      "9\n",
      "13\n",
      "17\n",
      "21\n",
      "25\n",
      "29\n",
      "33\n",
      "37\n"
     ]
    }
   ],
   "source": [
    "for n in range(1, 40, 4):\n",
    "    print(n)\n",
    "    "
   ]
  },
  {
   "cell_type": "markdown",
   "metadata": {},
   "source": [
    "# List comprehensive\n",
    "     for item in items_list:\n",
    "    loop_body\n",
    "\n",
    "### Comprehensive Styles \n",
    "    [loop_body for item in items_list]"
   ]
  },
  {
   "cell_type": "code",
   "execution_count": 13,
   "metadata": {},
   "outputs": [
    {
     "name": "stdout",
     "output_type": "stream",
     "text": [
      "1\n",
      "4\n",
      "9\n",
      "16\n",
      "25\n",
      "36\n",
      "49\n",
      "64\n",
      "81\n",
      "100\n",
      "121\n",
      "144\n",
      "169\n",
      "196\n",
      "225\n",
      "256\n",
      "289\n"
     ]
    }
   ],
   "source": [
    "for i in range(1,18):\n",
    "    print(i ** 2)\n"
   ]
  },
  {
   "cell_type": "code",
   "execution_count": 14,
   "metadata": {},
   "outputs": [
    {
     "name": "stdout",
     "output_type": "stream",
     "text": [
      "[1, 4, 9, 16, 25, 36, 49, 64, 81, 100, 121, 144, 169, 196, 225, 256, 289]\n"
     ]
    }
   ],
   "source": [
    "print([(i ** 2)for i in range(1, 18)])  #    [loop_body for item in items_list]"
   ]
  }
 ],
 "metadata": {
  "kernelspec": {
   "display_name": "base",
   "language": "python",
   "name": "python3"
  },
  "language_info": {
   "codemirror_mode": {
    "name": "ipython",
    "version": 3
   },
   "file_extension": ".py",
   "mimetype": "text/x-python",
   "name": "python",
   "nbconvert_exporter": "python",
   "pygments_lexer": "ipython3",
   "version": "3.11.5"
  }
 },
 "nbformat": 4,
 "nbformat_minor": 2
}
