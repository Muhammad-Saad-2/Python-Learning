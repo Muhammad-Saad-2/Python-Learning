{
 "cells": [
  {
   "cell_type": "markdown",
   "metadata": {},
   "source": [
    "# Function\n",
    "\n",
    "* Pre Defined Funciton \n",
    "    * provided by the language \n",
    "* User-Defined function\n",
    "    * function customized by the developer \n",
    "\n",
    "# Types of Functions \n",
    "\n",
    "* Return funciton \n",
    "    * the output of the fucntion can be assingned on any variable\n",
    "    \n",
    "* Non-return Function \n",
    "    * the value couldn't be assigned, it just runs    \n",
    "\n",
    "# funtion components \n",
    "\n",
    "* funciton Declaration\n",
    "    * function name \n",
    "    * function parameters \n",
    "        * parameter Type \n",
    "    * return Output Type     \n",
    "* Function Body \n",
    "    * The entire logic will be defined as in body \n",
    "* funciton Calling \n",
    "    *function_name (arg1, arg 2)\n",
    "\n",
    "# Syntax of the Functions \n",
    "```\n",
    "    def function_name(param1:type, param2:type,...)->Return_type:\n",
    "    function_body\n",
    "\n",
    "    function_name(arg1,arg2)\n",
    "```\n",
    "\n",
    "# Lambda Function \n",
    "* one line function\n",
    "* has no name \n",
    "* only requires a single line \n",
    "\n",
    "```\n",
    "        lambda paramter 1, parameter 2 : function body \n",
    "\n",
    "```\n"
   ]
  },
  {
   "cell_type": "code",
   "execution_count": 2,
   "metadata": {},
   "outputs": [
    {
     "name": "stdout",
     "output_type": "stream",
     "text": [
      "PIAIC Generative Artificial Intelligence\n",
      "Python Crash course\n"
     ]
    }
   ],
   "source": [
    "def piaic()->None: # declaration/function signature\n",
    "    # function body start\n",
    "    print(\"PIAIC Generative Artificial Intelligence\") # statment1\n",
    "    print(\"Python Crash course\") # statment2\n",
    "    # function body end\n",
    "\n",
    "\n",
    "piaic() # calling"
   ]
  },
  {
   "cell_type": "code",
   "execution_count": 4,
   "metadata": {},
   "outputs": [
    {
     "data": {
      "text/plain": [
       "26"
      ]
     },
     "execution_count": 4,
     "metadata": {},
     "output_type": "execute_result"
    }
   ],
   "source": [
    "def add_two_numbers (num1 : int, num2 : int )-> int:\n",
    "    return num1 + num2\n",
    "\n",
    "add_two_numbers(7,19)"
   ]
  },
  {
   "cell_type": "code",
   "execution_count": 21,
   "metadata": {},
   "outputs": [
    {
     "name": "stdout",
     "output_type": "stream",
     "text": [
      "[1, 4, 9, 16, 25, 36, 49, 64, 81, 100]\n"
     ]
    }
   ],
   "source": [
    "data : list[int] = [1, 2, 3, 4, 5, 6, 7, 8, 9, 10]\n",
    "\n",
    "data = list(map(lambda x:x**2, data))\n",
    "print(data)"
   ]
  },
  {
   "cell_type": "code",
   "execution_count": 26,
   "metadata": {},
   "outputs": [
    {
     "name": "stdout",
     "output_type": "stream",
     "text": [
      "[2, 4, 6, 8, 10]\n"
     ]
    }
   ],
   "source": [
    "data : list[int] = [1, 2, 3, 4, 5, 6, 7, 8, 9, 10]\n",
    "\n",
    "data = list(filter(lambda x:x % 2 == 0, data))\n",
    "print(data)"
   ]
  },
  {
   "cell_type": "markdown",
   "metadata": {},
   "source": [
    "https://stackoverflow.com/questions/33833881/is-it-possible-to-type-hint-a-lambda-function"
   ]
  },
  {
   "cell_type": "code",
   "execution_count": null,
   "metadata": {},
   "outputs": [],
   "source": [
    "from typing import Callable\n",
    "\n",
    "add: Callable[[int, int], int] = lambda x, y: x + y\n",
    "result = add(10, 20)  # result will be 30\n",
    "print(result)"
   ]
  },
  {
   "cell_type": "markdown",
   "metadata": {},
   "source": [
    "# Generator Function\n",
    "* iterate on element one by one\n",
    "* stop after each iteration\n",
    "* remembers old iterated value (the last value)\n",
    "* and moves forward to the next iterated value \n",
    "    "
   ]
  },
  {
   "cell_type": "code",
   "execution_count": 5,
   "metadata": {},
   "outputs": [
    {
     "name": "stdout",
     "output_type": "stream",
     "text": [
      "<generator object my_range at 0x000001C95AC49E40>\n",
      "1\n",
      "2\n",
      "3\n"
     ]
    }
   ],
   "source": [
    "## Generator Function\n",
    "def my_range(start:int , end:int , step: int=1):\n",
    "    for i in range(start,end+1,step):\n",
    "        yield i # Generator fucntion\n",
    "\n",
    "\n",
    "a = my_range(1,10)\n",
    "print(a)\n",
    "print(next(a)) # that's what yield function does, it calls the functoin every time you call it in order to save the memory \n",
    "print(next(a))\n",
    "print(next(a))\n"
   ]
  },
  {
   "cell_type": "code",
   "execution_count": 2,
   "metadata": {},
   "outputs": [
    {
     "data": {
      "text/plain": [
       "<function __main__.my_range(start: int, end: int, step: int)>"
      ]
     },
     "execution_count": 2,
     "metadata": {},
     "output_type": "execute_result"
    }
   ],
   "source": [
    "def my_range(start:int, end:int, step:int):\n",
    "    for i in range(start,end, step):\n",
    "        yield i\n",
    "\n",
    "my_range        "
   ]
  },
  {
   "cell_type": "code",
   "execution_count": 2,
   "metadata": {},
   "outputs": [
    {
     "name": "stdout",
     "output_type": "stream",
     "text": [
      "1\n",
      "2\n",
      "3\n",
      "4\n"
     ]
    }
   ],
   "source": [
    "from collections.abc import Iterator\n",
    "\n",
    "def my_range (start : int, end : int, step : int = 1 )-> Iterator[int]:\n",
    "    for r in range (start, end + 1, step):\n",
    "        yield r \n",
    "\n",
    "eg = my_range(1, 99)\n",
    "\n",
    "print(next(eg))\n",
    "print(next(eg))\n",
    "print(next(eg))\n",
    "print(next(eg))\n",
    "\n"
   ]
  },
  {
   "cell_type": "markdown",
   "metadata": {},
   "source": [
    "# Decorator Function\n",
    "*   a function that takes another function and extends the behavior of the latter function without explicitly modifying it"
   ]
  },
  {
   "cell_type": "code",
   "execution_count": 9,
   "metadata": {},
   "outputs": [
    {
     "name": "stdout",
     "output_type": "stream",
     "text": [
      "Good Morning\n",
      "hello world\n",
      "Thanks for using this Function\n"
     ]
    }
   ],
   "source": [
    "\n",
    "\n",
    "def greet(fx):  # decortaor function, if you've got multiple funcitons and you want to decorate them all in a same way so for that you'd create a decorate function and use them in any of your function \n",
    "    def mfx():\n",
    "        print(\"Good Morning\")\n",
    "        fx()\n",
    "        print(\"Thanks for using this Function\")\n",
    "    return mfx \n",
    "\n",
    "@greet\n",
    "def hello():\n",
    "    print(\"hello world\")\n",
    "\n",
    "hello()"
   ]
  },
  {
   "cell_type": "code",
   "execution_count": null,
   "metadata": {},
   "outputs": [],
   "source": []
  },
  {
   "cell_type": "code",
   "execution_count": null,
   "metadata": {},
   "outputs": [],
   "source": []
  }
 ],
 "metadata": {
  "kernelspec": {
   "display_name": "base",
   "language": "python",
   "name": "python3"
  },
  "language_info": {
   "codemirror_mode": {
    "name": "ipython",
    "version": 3
   },
   "file_extension": ".py",
   "mimetype": "text/x-python",
   "name": "python",
   "nbconvert_exporter": "python",
   "pygments_lexer": "ipython3",
   "version": "3.11.5"
  }
 },
 "nbformat": 4,
 "nbformat_minor": 2
}
