{
 "cells": [
  {
   "cell_type": "markdown",
   "metadata": {},
   "source": [
    "I'm happy to learn Python"
   ]
  },
  {
   "cell_type": "code",
   "execution_count": 6,
   "metadata": {},
   "outputs": [
    {
     "name": "stdout",
     "output_type": "stream",
     "text": [
      "Generative Ai\n"
     ]
    }
   ],
   "source": [
    "print(\"Generative Ai\")"
   ]
  },
  {
   "cell_type": "code",
   "execution_count": 24,
   "metadata": {},
   "outputs": [
    {
     "name": "stdout",
     "output_type": "stream",
     "text": [
      "PIAIC Student Card\n",
      "Student Name:Muhammad Saad\n",
      "Education:college Graduate\n",
      "Age:21\n"
     ]
    }
   ],
   "source": [
    "name:str = \"Muhammad Saad\"\n",
    "fname:str = \"Muhammad Jameel\"\n",
    "Education:str = \"college Graduate\"\n",
    "age:int = 21\n",
    "\n",
    "card:str = \"PIAIC Student Card\\nStudent Name:\" + name + \"\\nEducation:\" + Education + \"\\nAge:\" + str(age)\n",
    "print(card)"
   ]
  },
  {
   "cell_type": "markdown",
   "metadata": {},
   "source": [
    "## Multiline String (\"\"\" \"\"\"), (''' ''')"
   ]
  },
  {
   "cell_type": "code",
   "execution_count": 32,
   "metadata": {},
   "outputs": [
    {
     "name": "stdout",
     "output_type": "stream",
     "text": [
      "\n",
      "PIAIC Student Card \n",
      "Student Name : Muhammad Saad\n",
      "Father's Name : Muhammad Jameel\n",
      "Qualification : college Graduate\n",
      "Age : 21\n",
      "\n",
      "\n",
      "Total 22  \n",
      "\n"
     ]
    }
   ],
   "source": [
    "## F string \n",
    "\n",
    "name:str = \"Muhammad Saad\"\n",
    "fname:str = \"Muhammad Jameel\"\n",
    "Education:str = \"college Graduate\"\n",
    "age:int = 21\n",
    "\n",
    "card:str = f\"\"\"\n",
    "PIAIC Student Card \n",
    "Student Name : {name}\n",
    "Father's Name : {fname}\n",
    "Qualification : {Education}\n",
    "Age : {age}\n",
    "\n",
    "\n",
    "Total {2 + 8 + 9 + 3}  \n",
    "\"\"\"\n",
    "\n",
    "print(card)\n",
    "\n",
    "\n",
    "\n"
   ]
  },
  {
   "cell_type": "code",
   "execution_count": 38,
   "metadata": {},
   "outputs": [
    {
     "name": "stdout",
     "output_type": "stream",
     "text": [
      "\n",
      "PIAIC Student ID\n",
      "Name:Muhammad Saad\n",
      "Father's Name: Muhammad Jameel\n",
      "Qualification: college Graduate\n",
      "Age: 21\n",
      "Cast: Pakhtoon\n",
      "\n"
     ]
    }
   ],
   "source": [
    "# F string with % method\n",
    "\n",
    "name:str = \"Muhammad Saad\"\n",
    "fname:str = \"Muhammad Jameel\"\n",
    "education:str = \"college Graduate\"\n",
    "age:int = 21\n",
    "cast:str = \"Pakhtoon\"\n",
    "\n",
    "card:str = f\"\"\"\n",
    "PIAIC Student ID\n",
    "Name:%s\n",
    "Father's Name: %s\n",
    "Qualification: %s\n",
    "Age: %d\n",
    "Cast: %s\n",
    "\"\"\" % (name, fname, education, age, cast)\n",
    "print(card)\n",
    "\n"
   ]
  },
  {
   "cell_type": "code",
   "execution_count": 41,
   "metadata": {},
   "outputs": [
    {
     "data": {
      "text/plain": [
       "['capitalize',\n",
       " 'casefold',\n",
       " 'center',\n",
       " 'count',\n",
       " 'encode',\n",
       " 'endswith',\n",
       " 'expandtabs',\n",
       " 'find',\n",
       " 'format',\n",
       " 'format_map',\n",
       " 'index',\n",
       " 'isalnum',\n",
       " 'isalpha',\n",
       " 'isascii',\n",
       " 'isdecimal',\n",
       " 'isdigit',\n",
       " 'isidentifier',\n",
       " 'islower',\n",
       " 'isnumeric',\n",
       " 'isprintable',\n",
       " 'isspace',\n",
       " 'istitle',\n",
       " 'isupper',\n",
       " 'join',\n",
       " 'ljust',\n",
       " 'lower',\n",
       " 'lstrip',\n",
       " 'maketrans',\n",
       " 'partition',\n",
       " 'removeprefix',\n",
       " 'removesuffix',\n",
       " 'replace',\n",
       " 'rfind',\n",
       " 'rindex',\n",
       " 'rjust',\n",
       " 'rpartition',\n",
       " 'rsplit',\n",
       " 'rstrip',\n",
       " 'split',\n",
       " 'splitlines',\n",
       " 'startswith',\n",
       " 'strip',\n",
       " 'swapcase',\n",
       " 'title',\n",
       " 'translate',\n",
       " 'upper',\n",
       " 'zfill']"
      ]
     },
     "execution_count": 41,
     "metadata": {},
     "output_type": "execute_result"
    }
   ],
   "source": [
    "[ i for i in dir(str) if \"__\" not in i]"
   ]
  },
  {
   "cell_type": "code",
   "execution_count": 51,
   "metadata": {},
   "outputs": [
    {
     "name": "stdout",
     "output_type": "stream",
     "text": [
      "I will travel to Dubai and then to Ajman, then I might return to Pakistan\n"
     ]
    }
   ],
   "source": [
    "#.(format) method and through index numbers\n",
    "\n",
    "emirates_1:str = \"Ajman\" \n",
    "emirates_2:str = \"Dubai\"\n",
    "home_country:str = \"Pakistan\"\n",
    "print(\"I will travel to {1} and then to {0}, then I might return to {2}\" .format(emirates_1, emirates_2, home_country)) \n",
    "\n"
   ]
  },
  {
   "cell_type": "code",
   "execution_count": 52,
   "metadata": {},
   "outputs": [
    {
     "name": "stdout",
     "output_type": "stream",
     "text": [
      "['capitalize', 'casefold', 'center', 'count', 'encode', 'endswith', 'expandtabs', 'find', 'format', 'format_map', 'index', 'isalnum', 'isalpha', 'isascii', 'isdecimal', 'isdigit', 'isidentifier', 'islower', 'isnumeric', 'isprintable', 'isspace', 'istitle', 'isupper', 'join', 'ljust', 'lower', 'lstrip', 'maketrans', 'partition', 'removeprefix', 'removesuffix', 'replace', 'rfind', 'rindex', 'rjust', 'rpartition', 'rsplit', 'rstrip', 'split', 'splitlines', 'startswith', 'strip', 'swapcase', 'title', 'translate', 'upper', 'zfill']\n",
      "47\n"
     ]
    }
   ],
   "source": [
    "a: list[str] = [i for i in dir(str) if \"__\" not in i]\n",
    "print(a)\n",
    "print(len(a))"
   ]
  },
  {
   "cell_type": "code",
   "execution_count": 68,
   "metadata": {},
   "outputs": [
    {
     "name": "stdout",
     "output_type": "stream",
     "text": [
      " my name is muhammadsaad\n"
     ]
    }
   ],
   "source": [
    "first_name:str = \"muHaMmAd\"\n",
    "last_name:str = \"sAaD\"\n",
    "\n",
    "my_name:str = \" My Name is \" + first_name + \\\n",
    "    last_name\n",
    "print(my_name.capitalize())\n"
   ]
  },
  {
   "cell_type": "code",
   "execution_count": 69,
   "metadata": {},
   "outputs": [
    {
     "name": "stdout",
     "output_type": "stream",
     "text": [
      "My Name is Muhammad Qasim\n",
      "15\n"
     ]
    }
   ],
   "source": [
    "student_code : str = \"\"\"\n",
    "print(\"My Name is Muhammad Qasim\")\n",
    "a:int = 7\n",
    "b:int = 8\n",
    "print(a + b)\n",
    "\"\"\"\n",
    "\n",
    "exec(student_code)"
   ]
  },
  {
   "cell_type": "code",
   "execution_count": 70,
   "metadata": {},
   "outputs": [
    {
     "name": "stdout",
     "output_type": "stream",
     "text": [
      "\n",
      "PIAIC STUDENT ID \n",
      "Name : Muhammad saad\n",
      "Father Name : Muhammmad Jameel\n",
      "Age: 21\n",
      "Place of Birth : Karachi\n",
      "\n",
      "\n"
     ]
    }
   ],
   "source": [
    "# Recommended below F string method \n",
    "\n",
    "name:str = \"Muhammad saad\"\n",
    "fname: str = \"Muhammmad Jameel\"\n",
    "Age:int = 21\n",
    "birth_place:str = \"Karachi\"\n",
    "\n",
    "card:str = f\"\"\"\n",
    "PIAIC STUDENT ID \n",
    "Name : {name}\n",
    "Father Name : {fname}\n",
    "Age: {age}\n",
    "Place of Birth : {birth_place}\n",
    "\n",
    "\"\"\"\n",
    "print(card)\n"
   ]
  },
  {
   "cell_type": "markdown",
   "metadata": {},
   "source": [
    "# Explore String Mehods and Attributes "
   ]
  },
  {
   "cell_type": "code",
   "execution_count": null,
   "metadata": {},
   "outputs": [],
   "source": []
  }
 ],
 "metadata": {
  "kernelspec": {
   "display_name": "base",
   "language": "python",
   "name": "python3"
  },
  "language_info": {
   "codemirror_mode": {
    "name": "ipython",
    "version": 3
   },
   "file_extension": ".py",
   "mimetype": "text/x-python",
   "name": "python",
   "nbconvert_exporter": "python",
   "pygments_lexer": "ipython3",
   "version": "3.11.5"
  }
 },
 "nbformat": 4,
 "nbformat_minor": 2
}
