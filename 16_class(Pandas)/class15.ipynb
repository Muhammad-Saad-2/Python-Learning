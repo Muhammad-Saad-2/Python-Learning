{
 "cells": [
  {
   "cell_type": "code",
   "execution_count": 1,
   "metadata": {},
   "outputs": [
    {
     "name": "stdout",
     "output_type": "stream",
     "text": [
      "    Name  Age  Salary Department\n",
      "0   John   25   50000         IT\n",
      "1   Jane   30   60000         HR\n",
      "2    Bob   35   70000      Sales\n",
      "3  Alice   40   80000  Marketing\n"
     ]
    }
   ],
   "source": [
    "#dicionary of list\n",
    "\n",
    "import pandas as pd\n",
    "Employees_list: dict = {\"Name\": [\"John\", \"Jane\", \"Bob\", \"Alice\"],\n",
    "                         \"Age\": [25, 30, 35, 40],\n",
    "                         \"Salary\": [50000, 60000, 70000, 80000],\n",
    "                         \"Department\": [\"IT\", \"HR\", \"Sales\", \"Marketing\"]}\n",
    "\n",
    "Df = pd.DataFrame(Employees_list)\n",
    "print(Df)"
   ]
  },
  {
   "cell_type": "code",
   "execution_count": 6,
   "metadata": {},
   "outputs": [
    {
     "name": "stdout",
     "output_type": "stream",
     "text": [
      "a     1.0\n",
      "b     2.0\n",
      "c     3.0\n",
      "d     4.0\n",
      "e     5.0\n",
      "f     6.0\n",
      "g     7.0\n",
      "h     8.0\n",
      "i     9.0\n",
      "j    10.0\n",
      "Name: numbers, dtype: float64\n",
      "3.0\n"
     ]
    }
   ],
   "source": [
    "import pandas as pd\n",
    "\n",
    "x = [1, 2, 3, 4, 5, 6, 7, 8, 9, 10]\n",
    "\n",
    "var = pd.Series(x,index=['a','b','c','d','e','f','g','h','i','j'],dtype=float, name='numbers')\n",
    "\n",
    "print(var)\n",
    "\n",
    "print(var[2])\n",
    "\n",
    "\n",
    "\n",
    "\n"
   ]
  },
  {
   "cell_type": "code",
   "execution_count": null,
   "metadata": {},
   "outputs": [],
   "source": [
    "X"
   ]
  }
 ],
 "metadata": {
  "kernelspec": {
   "display_name": "base",
   "language": "python",
   "name": "python3"
  },
  "language_info": {
   "codemirror_mode": {
    "name": "ipython",
    "version": 3
   },
   "file_extension": ".py",
   "mimetype": "text/x-python",
   "name": "python",
   "nbconvert_exporter": "python",
   "pygments_lexer": "ipython3",
   "version": "3.11.5"
  }
 },
 "nbformat": 4,
 "nbformat_minor": 2
}
