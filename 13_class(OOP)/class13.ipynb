{
 "cells": [
  {
   "cell_type": "markdown",
   "metadata": {},
   "source": [
    "# Python OOP\n",
    "\n",
    "* Class\n",
    "    * Method\n",
    "        * First argument must be a variable (for eg self , this et cetra )\n",
    "    * Attribute\n",
    "        * Connect it with individual object\n",
    "    \n",
    "# class Variables \n",
    "*   Constructor\n",
    "    * `def__init__(self, argument1, argument2 ....)`\n",
    "*   Class Variables \n",
    "    *   Create Method \n",
    "        * `ClassVariable.ClassName`\n"
   ]
  },
  {
   "cell_type": "code",
   "execution_count": 5,
   "metadata": {},
   "outputs": [
    {
     "name": "stdout",
     "output_type": "stream",
     "text": [
      "Shubham is an developer\n",
      "Sidra is an Author\n"
     ]
    }
   ],
   "source": [
    "class Employees: #creating a class\n",
    "    def info(self):\n",
    "        print(f\"{self.name} is an {self.occuaption}\")\n",
    "\n",
    "a = Employees()\n",
    "b = Employees()\n",
    "#can be created unlimited Employees\n",
    "\n",
    "a.name = \"Shubham\"\n",
    "a.occuaption = \"developer\"\n",
    "\n",
    "b.name = \"Sidra\"\n",
    "b.occuaption = \"Author\"\n",
    "\n",
    "a.info()\n",
    "b.info()\n"
   ]
  },
  {
   "cell_type": "markdown",
   "metadata": {},
   "source": [
    "# By Constructor Method "
   ]
  },
  {
   "cell_type": "code",
   "execution_count": 2,
   "metadata": {},
   "outputs": [],
   "source": [
    "# Creating a class\n",
    "\n",
    "class Staff:\n",
    "\n",
    "    def __init__(self, name = str, employee_id = int) -> None: # Constructor \n",
    "        self.name:str = name      #self attribute number 1\n",
    "        self.id:int = employee_id #self attribute number 2\n",
    "        self.department = \" Manufacturing\" #self attribute number 3\n",
    "        \n",
    "        # Method number 1\n",
    "    def designation(self, role = str ) -> None:\n",
    "        print(f\"{self.name} is a {role} .. \")\n",
    "        \n",
    "        # Method number 2\n",
    "    def salaries(self, salary = int) -> None:\n",
    "        print(f\"{self.name} was hired on USD ${salary} \")\n",
    "        \n",
    "\n",
    "\n",
    "       "
   ]
  },
  {
   "cell_type": "code",
   "execution_count": 3,
   "metadata": {},
   "outputs": [],
   "source": [
    "# Creating Object \n",
    "\n",
    "Employee_1 : Staff = Staff (\"Muhammad Salman\", 201)\n",
    "Employee_2 : Staff = Staff (\"Shakoorullah\", 202)"
   ]
  },
  {
   "cell_type": "code",
   "execution_count": 4,
   "metadata": {},
   "outputs": [
    {
     "name": "stdout",
     "output_type": "stream",
     "text": [
      "Muhammad Salman\n",
      "201\n",
      "Shakoorullah\n",
      "202\n"
     ]
    }
   ],
   "source": [
    "print(Employee_1.name)\n",
    "print(Employee_1.id)\n",
    "\n",
    "print(Employee_2.name)\n",
    "print(Employee_2.id)\n"
   ]
  },
  {
   "cell_type": "code",
   "execution_count": 9,
   "metadata": {},
   "outputs": [
    {
     "name": "stdout",
     "output_type": "stream",
     "text": [
      "Muhammad Salman is a Merchandiser .. \n",
      "Muhammad Salman was hired on USD $1500 \n",
      "Shakoorullah was hired on USD $400 \n"
     ]
    }
   ],
   "source": [
    "Employee_1.designation(\"Merchandiser\")\n",
    "Employee_1.salaries(1500)\n",
    "\n",
    "Employee_2.salaries(400)\n"
   ]
  },
  {
   "cell_type": "code",
   "execution_count": 10,
   "metadata": {},
   "outputs": [],
   "source": [
    "# Creating a class\n",
    "\n",
    "class Staff():\n",
    "    counter : int = 0 # class variable   \n",
    "    extension : int = 15 # class variable 2\n",
    "    def __init__(self, name = str, employee_id = int) -> None: # Constructor \n",
    "        self.name:str = name      #self attribute number 1\n",
    "        self.id:int = employee_id #self attribute number 2\n",
    "        self.department = \" Manufacturing\" #self attribute number 3\n",
    "        \n",
    "        # Method number 1\n",
    "    def designation(self, role = str ) -> None:\n",
    "        print(f\"{self.name} is a {role} .. \")\n",
    "        \n",
    "        # Method number 2\n",
    "    def salaries(self, salary = int) -> None:\n",
    "        print(f\"{self.name} was hired on USD ${salary} \")\n",
    "        \n",
    "        # Class variable \n",
    "    def personal_info(self)-> None:\n",
    "        info : str = f\"\"\"\n",
    "you can call {self.name} on the provided extension {Staff.extension}  \n",
    "\n",
    "\"\"\"\n",
    "        print(info)\n"
   ]
  },
  {
   "cell_type": "code",
   "execution_count": 11,
   "metadata": {},
   "outputs": [],
   "source": [
    "# Creating Object \n",
    "\n",
    "Employee_1 : Staff = Staff (\"Muhammad Salman\", 201)\n",
    "Employee_2 : Staff = Staff (\"Shakoorullah\", 202)\n",
    "\n"
   ]
  },
  {
   "cell_type": "code",
   "execution_count": 14,
   "metadata": {},
   "outputs": [
    {
     "name": "stdout",
     "output_type": "stream",
     "text": [
      "\n",
      "you can call Muhammad Salman on the provided extension 15  \n",
      "\n",
      "\n"
     ]
    }
   ],
   "source": [
    "Employee_1.personal_info()"
   ]
  },
  {
   "cell_type": "markdown",
   "metadata": {},
   "source": [
    "# Inheritnce"
   ]
  },
  {
   "cell_type": "code",
   "execution_count": 16,
   "metadata": {},
   "outputs": [
    {
     "name": "stdout",
     "output_type": "stream",
     "text": [
      "Brown\n",
      "black\n",
      "Parent method speak: Pakistan zinda bad!\n",
      "You are looking TV!\n",
      "======Child object=======\n",
      "You are looking Cenima!\n",
      "None\n",
      "Parent method speak: Hello World\n",
      "None\n",
      "Brown\n",
      "black\n"
     ]
    }
   ],
   "source": [
    "class Parents():\n",
    "    def __init__(self)->None:\n",
    "        self.eye_color : str = \"Brown\"\n",
    "        self.hair_color : str = \"black\"\n",
    "\n",
    "    def speak(self, words: str)->None:\n",
    "        print(f\"Parent method speak: {words}\")\n",
    "\n",
    "    def watching(sef, object_name : str)->None:\n",
    "        print(f\"You are looking {object_name}!\")\n",
    "\n",
    "\n",
    "class Child(Parents):\n",
    "    pass \n",
    "\n",
    "\n",
    "\n",
    "obj1 : Parents = Parents()\n",
    "print(obj1.eye_color)\n",
    "print(obj1.hair_color)\n",
    "obj1.speak(\"Pakistan zinda bad!\")\n",
    "obj1.watching(\"TV\")\n",
    "\n",
    "print(\"======Child object=======\")\n",
    "### Child object \n",
    "\n",
    "obj2 : Child = Child()\n",
    "print(obj2.watching(\"Cenima\"))\n",
    "print(obj2.speak(\"Hello World\"))\n",
    "print(obj2.eye_color)\n",
    "print(obj2.hair_color)"
   ]
  },
  {
   "cell_type": "code",
   "execution_count": 17,
   "metadata": {},
   "outputs": [
    {
     "name": "stdout",
     "output_type": "stream",
     "text": [
      "Brown\n",
      "black\n",
      "Parent method speak: Pakistan zinda bad!\n",
      "You are looking TV!\n",
      "======Child object=======\n",
      "You are looking Cenima!\n",
      "Parent method speak: Hello World\n",
      "Brown\n",
      "black\n",
      "Child method for teaching : Generative AI\n"
     ]
    }
   ],
   "source": [
    "class Parents():\n",
    "    def __init__(self)->None:\n",
    "        self.eye_color : str = \"Brown\"\n",
    "        self.hair_color : str = \"black\"\n",
    "\n",
    "    def speak(self, words: str)->None:\n",
    "        print(f\"Parent method speak: {words}\")\n",
    "\n",
    "    def watching(sef, object_name : str)->None:\n",
    "        print(f\"You are looking {object_name}!\")\n",
    "\n",
    "\n",
    "class Child(Parents):\n",
    "    def teaching(self, subject : str = None)->None:\n",
    "        print(f'Child method for teaching : {subject}')\n",
    "     \n",
    "\n",
    "\n",
    "obj1 : Parents = Parents()\n",
    "print(obj1.eye_color)\n",
    "print(obj1.hair_color)\n",
    "obj1.speak(\"Pakistan zinda bad!\")\n",
    "obj1.watching(\"TV\")\n",
    "\n",
    "\n",
    "print(\"======Child object=======\")\n",
    "### Child object \n",
    "\n",
    "obj2 : Child = Child()\n",
    "obj2.watching(\"Cenima\")\n",
    "obj2.speak(\"Hello World\")\n",
    "print(obj2.eye_color)\n",
    "print(obj2.hair_color)\n",
    "obj2.teaching(\"Generative AI\")"
   ]
  },
  {
   "cell_type": "code",
   "execution_count": 37,
   "metadata": {},
   "outputs": [
    {
     "name": "stdout",
     "output_type": "stream",
     "text": [
      "Muhammad salam is an Assistant, his id is 202, his duty is to maintaining enteries\n",
      "Asif Naseem is a helper, his id is 202 and his duties are helping\n"
     ]
    }
   ],
   "source": [
    "class Admin():\n",
    "    def __init__(self, name : str, id : int ) -> None:\n",
    "        self.name : str = name \n",
    "        self.id : int  = id\n",
    "\n",
    "class Assistant(Admin):\n",
    "    def __init__(self, name: str, id: int, duties: str ) -> None:\n",
    "        super().__init__(name, id)\n",
    "        self.assistant_name : str = name\n",
    "        self.assistant_id : int = id\n",
    "        self.assistant_duties : str = duties\n",
    "        print(f\"{self.assistant_name} is an Assistant, his id is {self.assistant_id}, his duty is to {self.assistant_duties}\")\n",
    "\n",
    "class Helper(Admin):\n",
    "    def __init__(self, name: str, id: int, duties: str) -> None:\n",
    "        super().__init__(name, id)\n",
    "        self.helper_name : str = name \n",
    "        self.helper_id : int = id\n",
    "        self.helper_duties : str = duties \n",
    "        print (f\"{self.helper_name} is a helper, his id is {self.helper_id} and his duties are {self.helper_duties}\")\n",
    "\n",
    "\n",
    "        \n",
    "    \n",
    "Assistant_1 : Assistant = Assistant (\"Muhammad salam\", 202, \"maintaining enteries\")\n",
    "helper_1 : Helper = Helper (\"Asif Naseem\", 202, \"helping\")\n",
    "\n",
    "   \n",
    "\n",
    "        \n",
    "\n",
    "\n",
    "\n",
    "\n",
    "\n",
    "\n",
    "\n",
    "    "
   ]
  },
  {
   "cell_type": "markdown",
   "metadata": {},
   "source": [
    "# Multiple Inheritance "
   ]
  },
  {
   "cell_type": "code",
   "execution_count": 5,
   "metadata": {},
   "outputs": [
    {
     "name": "stdout",
     "output_type": "stream",
     "text": [
      "Musata got Brown hair\n",
      "Mustafa has got Grey eyes\n",
      "The father's cast is  khan\n",
      "The Mother speaks pashto\n"
     ]
    }
   ],
   "source": [
    "class Mother():\n",
    "    def __init__(self, name : str )-> None: # Method cretaion\n",
    "        self.name = \"name\"\n",
    "        self.eyecoloir = \"Grey\"\n",
    "\n",
    "    def language (self, lang : str )-> str: # function creation\n",
    "        return (f\"The Mother speaks {lang}\")\n",
    "    \n",
    "\n",
    "class Father():\n",
    "    def __init__(self, name : str ) -> None:\n",
    "        self.name : name\n",
    "        self.haircolor : str = \"Brown\"\n",
    "\n",
    "    def lastname (self, surname)-> str:\n",
    "        return(f\"The father's cast is  {surname}\")\n",
    "    \n",
    "class child (Mother, Father): # whatever parent class is closest to the child class , child class will inherit the properties of those\n",
    "    def __init__(self, mother_name: str, father_name: str, child_name: str) -> None:\n",
    "        Mother.__init__(self, mother_name)\n",
    "        Father.__init__(self, father_name)\n",
    "        child.name = child_name\n",
    "\n",
    "son : child = child (\"Sana Khan\", \"Shehyar Khan\", \"Mustafa\")\n",
    "\n",
    "print(f\"Musata got {son.haircolor} hair\")\n",
    "print(f\"Mustafa has got {son.eyecoloir} eyes\")\n",
    "print(son.lastname(\"khan\"))\n",
    "print(son.language (\"pashto\"))\n",
    "\n",
    "        \n",
    "        \n",
    "        \n",
    "    \n",
    "\n",
    "       \n",
    "    \n",
    "    "
   ]
  },
  {
   "cell_type": "markdown",
   "metadata": {},
   "source": [
    "# Excercise \n",
    "* 9-1. Restaurant: Make a class called Restaurant. The __init__() method for\n",
    "Restaurant should store two attributes: a restaurant_name and a cuisine_type.\n",
    "Make a method called describe_restaurant() that prints these two pieces of\n",
    "information, and a method called open_restaurant() that prints a message indicating that the restaurant is open.\n",
    "Make an instance called restaurant from your class. Print the two attributes individually, and then call both methods."
   ]
  },
  {
   "cell_type": "code",
   "execution_count": 16,
   "metadata": {},
   "outputs": [],
   "source": [
    "# # Excercise \n",
    "# * 9-1. Restaurant: Make a class called Restaurant. The __init__() method for\n",
    "# Restaurant should store two attributes: a restaurant_name and a cuisine_type.\n",
    "# Make a method called describe_restaurant() that prints these two pieces of\n",
    "# information, and a method called open_restaurant() that prints a message indicating that the restaurant is open.\n",
    "# Make an instance called restaurant from your class. Print the two attributes individually, and then call both methods.\n",
    "\n",
    "\n",
    "class Restaurant:\n",
    "\n",
    "    def __init__(self, restaurant_name, cuisine_type) -> None:\n",
    "        self.restaurant_name = restaurant_name\n",
    "        self.cuinse_type = cuisine_type\n",
    "\n",
    "    def describe_restaurant(self):\n",
    "        print(f\"Restaurant name is {self.restaurant_name} and cuisine type is {self.cuinse_type}\")\n",
    "\n",
    "    def open_restaurant(self):\n",
    "        print(f\"{self.restaurant_name} is open\")\n",
    "\n",
    "        my_restaurant = Restaurant(\"KFC\", \"Fast Food\")\n",
    "        print(f\" my restaurant name is {my_restaurant.restaurant_name}\")\n",
    "        print(f\" my cuisine type is {my_restaurant.cuinse_type}\")\n",
    "\n",
    "\n",
    "        my_restaurant.describe_restaurant()\n",
    "        my_restaurant.open_restaurant()\n",
    "\n",
    "# 9-2. Three Restaurants: Start with your class from Exercise 9-1. Create three\n",
    "# different instances from the class, and call describe_restaurant() for each\n",
    "# instance.\n",
    "        \n",
    "        branch_1 = Restaurant(\"\")\n",
    "    \n"
   ]
  },
  {
   "cell_type": "code",
   "execution_count": null,
   "metadata": {},
   "outputs": [],
   "source": []
  }
 ],
 "metadata": {
  "kernelspec": {
   "display_name": "base",
   "language": "python",
   "name": "python3"
  },
  "language_info": {
   "codemirror_mode": {
    "name": "ipython",
    "version": 3
   },
   "file_extension": ".py",
   "mimetype": "text/x-python",
   "name": "python",
   "nbconvert_exporter": "python",
   "pygments_lexer": "ipython3",
   "version": "3.11.5"
  }
 },
 "nbformat": 4,
 "nbformat_minor": 2
}
