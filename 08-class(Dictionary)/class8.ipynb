{
 "cells": [
  {
   "cell_type": "code",
   "execution_count": 1,
   "metadata": {},
   "outputs": [
    {
     "name": "stdout",
     "output_type": "stream",
     "text": [
      "{'Apple': 70, 'Pineapple': 85, 'strawberry': 90}\n"
     ]
    }
   ],
   "source": [
    "from typing import Dict, Union, Optional\n",
    "import pprint\n",
    "\n",
    "fruits: dict[str, int] = {\"Apple\" : 70,\n",
    "                          \"Pineapple\" : 85,\n",
    "                          \"strawberry\" : 90\n",
    "                          }\n",
    "\n",
    "pprint.pprint(fruits)\n",
    "\n"
   ]
  },
  {
   "cell_type": "code",
   "execution_count": 5,
   "metadata": {},
   "outputs": [
    {
     "name": "stdout",
     "output_type": "stream",
     "text": [
      "Imagine\n",
      "{'title': 'Imagine', 'artist': 'John Lennon', 'year': 1971, 'genre': 'Rock', 'duration': '3:00'}\n",
      "{'title': 'Imagine', 'artist': 'John Lennon', 'year': 1971, 'duration': '3:00'}\n",
      "Artist exists.\n"
     ]
    }
   ],
   "source": [
    "# Creating a dictionary\n",
    "song = {\n",
    "    'title': 'Imagine',\n",
    "    'artist': 'John Lennon',\n",
    "    'year': 1971,\n",
    "    'genre': 'Rock'\n",
    "}\n",
    "\n",
    "#Accessing Values \n",
    "title = song ['title'] \n",
    "print(title)\n",
    "\n",
    "\n",
    "# Adding a new key-value pair\n",
    "song['duration'] = '3:00'\n",
    "print(song)\n",
    "\n",
    "# Removing a key-value pair\n",
    "del song['genre']\n",
    "print(song)\n",
    "\n",
    "# Checking if a key exists\n",
    "if 'artist' in song:\n",
    "    print(\"Artist exists.\")"
   ]
  },
  {
   "cell_type": "code",
   "execution_count": 6,
   "metadata": {},
   "outputs": [
    {
     "name": "stdout",
     "output_type": "stream",
     "text": [
      "['clear', 'copy', 'fromkeys', 'get', 'items', 'keys', 'pop', 'popitem', 'setdefault', 'update', 'values']\n"
     ]
    }
   ],
   "source": [
    "from typing import Dict, Union, Optional\n",
    "import pprint\n",
    "\n",
    "\n",
    "Key = Union[int,str] # create custom type\n",
    "Value = Union[int, str, list, dict, tuple, set]\n",
    "\n",
    "data : Dict[Key,Value] = {\n",
    "                        \"fname\":\"Muhammad Aslam\",\n",
    "                        \"name\":\"Muhammad Qasim\",\n",
    "                        \"education\": \"MSDS\"}\n",
    "\n",
    "\n",
    "methods : list[str] = [m for m in dir(data) if \"__\" not in m]\n",
    "print(methods)"
   ]
  },
  {
   "cell_type": "code",
   "execution_count": 13,
   "metadata": {},
   "outputs": [
    {
     "name": "stdout",
     "output_type": "stream",
     "text": [
      "The alien is Green\n",
      "The alien is now yellow\n"
     ]
    }
   ],
   "source": [
    "alien_0 = {\"color\" : \"Green\"}\n",
    "print(f\"The alien is {alien_0['color']}\")\n",
    "\n",
    "alien_0['color'] = 'yellow'\n",
    "print(f\"The alien is now {alien_0['color']}\")\n"
   ]
  },
  {
   "cell_type": "code",
   "execution_count": 14,
   "metadata": {},
   "outputs": [
    {
     "name": "stdout",
     "output_type": "stream",
     "text": [
      "Sarah's favorite language is C.\n"
     ]
    }
   ],
   "source": [
    "favorite_languages = {\n",
    " 'jen': 'python',\n",
    " 'sarah': 'c',\n",
    " 'edward': 'ruby',\n",
    " 'phil': 'python',\n",
    " }\n",
    "\n",
    "language = favorite_languages['sarah'].title()\n",
    "print(f\"Sarah's favorite language is {language}.\")"
   ]
  }
 ],
 "metadata": {
  "kernelspec": {
   "display_name": "base",
   "language": "python",
   "name": "python3"
  },
  "language_info": {
   "codemirror_mode": {
    "name": "ipython",
    "version": 3
   },
   "file_extension": ".py",
   "mimetype": "text/x-python",
   "name": "python",
   "nbconvert_exporter": "python",
   "pygments_lexer": "ipython3",
   "version": "3.11.5"
  }
 },
 "nbformat": 4,
 "nbformat_minor": 2
}
