{
 "cells": [
  {
   "cell_type": "code",
   "execution_count": 1,
   "metadata": {},
   "outputs": [
    {
     "name": "stdout",
     "output_type": "stream",
     "text": [
      "[2, 3, 5, 6, 7, 8]\n"
     ]
    }
   ],
   "source": [
    "def sort(arr1):\n",
    "    # Loop over the entire array from the end to the start (excluding the first element)\n",
    "    for i in range(len(arr1) - 1, 0, -1):\n",
    "        # Inner loop to compare adjacent elements\n",
    "        for j in range(i):\n",
    "            # If the current element is greater than the next element, swap them\n",
    "            if arr1[j] > arr1[j + 1]:\n",
    "                # Swap the elements\n",
    "                temp = arr1[j]\n",
    "                arr1[j] = arr1[j + 1]\n",
    "                arr1[j + 1] = temp\n",
    "\n",
    "# Example array to be sorted\n",
    "arr1: list = [5, 3, 8, 6, 7, 2]\n",
    "# Call the sort function\n",
    "sort(arr1)\n",
    "# Print the sorted array\n",
    "print(arr1)\n",
    "\n"
   ]
  },
  {
   "cell_type": "code",
   "execution_count": null,
   "metadata": {},
   "outputs": [],
   "source": []
  }
 ],
 "metadata": {
  "kernelspec": {
   "display_name": "Python 3",
   "language": "python",
   "name": "python3"
  },
  "language_info": {
   "codemirror_mode": {
    "name": "ipython",
    "version": 3
   },
   "file_extension": ".py",
   "mimetype": "text/x-python",
   "name": "python",
   "nbconvert_exporter": "python",
   "pygments_lexer": "ipython3",
   "version": "3.12.3"
  }
 },
 "nbformat": 4,
 "nbformat_minor": 2
}
