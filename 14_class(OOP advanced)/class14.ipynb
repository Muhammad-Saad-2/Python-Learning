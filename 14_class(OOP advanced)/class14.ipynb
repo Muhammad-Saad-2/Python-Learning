{
 "cells": [
  {
   "cell_type": "markdown",
   "metadata": {},
   "source": [
    "# Method overloading"
   ]
  },
  {
   "cell_type": "code",
   "execution_count": 10,
   "metadata": {},
   "outputs": [
    {
     "name": "stdout",
     "output_type": "stream",
     "text": [
      "6\n",
      "16.5\n",
      "Oh yes\tHi\n"
     ]
    }
   ],
   "source": [
    "from typing import Union, overload\n",
    "\n",
    "class Adder():\n",
    "    @overload\n",
    "    def Add (self, x : int, y : int)-> int:\n",
    "        ...\n",
    "    @overload\n",
    "    def Add(self, x: float, y : float)-> float:\n",
    "        ...\n",
    "    @overload\n",
    "    def Add(self, x : str, y : str)-> str:\n",
    "        ...\n",
    "\n",
    "    def Add(self, x : Union[int, float, str], y : Union[int, float, str])->Union[int, float, str]:\n",
    "        if isinstance (x, int) and isinstance (y, int):\n",
    "            return (x + y)\n",
    "        \n",
    "        elif isinstance (x, float) and isinstance (y, float):\n",
    "            return (x + y)\n",
    "        \n",
    "        elif isinstance (x, str) and isinstance (y, str):\n",
    "            return (x + y)\n",
    "        \n",
    "        else: \n",
    "            raise TypeError (\" Invalid argument types\")\n",
    "        \n",
    "\n",
    "adder = Adder ()\n",
    "\n",
    "answer1 = adder.Add ( 2, 4)\n",
    "answer2 = adder.Add (7.8, 8.7)\n",
    "answer3 = adder.Add (\"Oh yes\\t\", \"Hi\")\n",
    "\n",
    "print(answer1)\n",
    "print(answer2)\n",
    "print(answer3)\n",
    "    "
   ]
  },
  {
   "cell_type": "markdown",
   "metadata": {},
   "source": [
    "# Function Overloading\n",
    "\n",
    "* Differnce \n",
    "    * the only differnce between method overloading and function overloading is that in method overloading you need to create a class and in function overloading you don't "
   ]
  },
  {
   "cell_type": "code",
   "execution_count": 11,
   "metadata": {},
   "outputs": [
    {
     "name": "stdout",
     "output_type": "stream",
     "text": [
      "6\n",
      "16.5\n",
      "Oh yes\tHi\n"
     ]
    }
   ],
   "source": [
    "@overload\n",
    "def Add (self, x : int, y : int)-> int:\n",
    "    ...\n",
    "@overload\n",
    "def Add(self, x: float, y : float)-> float:\n",
    "    ...\n",
    "@overload\n",
    "def Add(self, x : str, y : str)-> str:\n",
    "    ...\n",
    "\n",
    "def Add(self, x : Union[int, float, str], y : Union[int, float, str])->Union[int, float, str]:\n",
    "    if isinstance (x, int) and isinstance (y, int):\n",
    "        return (x + y)\n",
    "    \n",
    "    elif isinstance (x, float) and isinstance (y, float):\n",
    "        return (x + y)\n",
    "    \n",
    "    elif isinstance (x, str) and isinstance (y, str):\n",
    "        return (x + y)\n",
    "    \n",
    "    else: \n",
    "        raise TypeError (\" Invalid argument types\")\n",
    "    \n",
    "\n",
    "answer1 = adder.Add ( 2, 4)\n",
    "answer2 = adder.Add (7.8, 8.7)\n",
    "answer3 = adder.Add (\"Oh yes\\t\", \"Hi\")\n",
    "\n",
    "print(answer1)\n",
    "print(answer2)\n",
    "print(answer3)\n",
    "    \n",
    "    "
   ]
  },
  {
   "cell_type": "markdown",
   "metadata": {},
   "source": [
    "# Overidng \n",
    "\n",
    "So, in the example, when you call dog_instance.speak(), it prints \"Dog barks\" because the speak method is overridden in the Dog class. Similarly, cat_instance.speak() prints \"Cat meows\" as the speak method is overridden in the Cat class."
   ]
  },
  {
   "cell_type": "code",
   "execution_count": 1,
   "metadata": {},
   "outputs": [
    {
     "name": "stdout",
     "output_type": "stream",
     "text": [
      "Dog barks\n",
      "Cat meows\n"
     ]
    }
   ],
   "source": [
    "class Animal:\n",
    "    def speak(self):\n",
    "        print(\"Animal speaks\")\n",
    "\n",
    "class Dog(Animal):\n",
    "    def speak(self):\n",
    "        print(\"Dog barks\")\n",
    "\n",
    "class Cat(Animal):\n",
    "    def speak(self):\n",
    "        print(\"Cat meows\")\n",
    "\n",
    "# Create instances of the subclasses\n",
    "dog_instance = Dog()\n",
    "cat_instance = Cat()\n",
    "\n",
    "# Call the overridden method\n",
    "dog_instance.speak()  # Output: Dog barks\n",
    "cat_instance.speak()  # Output: Cat meows\n"
   ]
  },
  {
   "cell_type": "markdown",
   "metadata": {},
   "source": [
    "# POLYMORPHISM\n",
    "\n",
    "* Definition\n",
    "    * This is polymorphism in action! Each object (animal) can be treated as an instance of the general class (Animal), but when we call a shared method (make_sound), it behaves according to the specific class it belongs to. It allows us to use a single interface (the animal_sound function) to work with different types of objects (animals)."
   ]
  },
  {
   "cell_type": "code",
   "execution_count": 12,
   "metadata": {},
   "outputs": [
    {
     "name": "stdout",
     "output_type": "stream",
     "text": [
      "Woof!\n",
      "Meow!\n",
      "Quack!\n"
     ]
    }
   ],
   "source": [
    "# Imagine a Zoo with different animals\n",
    "class Animal:\n",
    "    def make_sound(self):\n",
    "        # Every animal can make a sound, but they do it differently\n",
    "        pass\n",
    "\n",
    "class Dog(Animal):\n",
    "    def make_sound(self):\n",
    "        # Dogs bark\n",
    "        print(\"Woof!\")\n",
    "\n",
    "class Cat(Animal):\n",
    "    def make_sound(self):\n",
    "        # Cats meow\n",
    "        print(\"Meow!\")\n",
    "\n",
    "class Duck(Animal):\n",
    "    def make_sound(self):\n",
    "        # Ducks quack\n",
    "        print(\"Quack!\")\n",
    "\n",
    "# Function that makes an animal sound without knowing its type\n",
    "def animal_sound(animal):\n",
    "    animal.make_sound()\n",
    "\n",
    "# Let's create some animals\n",
    "dog = Dog()\n",
    "cat = Cat()\n",
    "duck = Duck()\n",
    "\n",
    "# Now, let's make them all sound off\n",
    "animal_sound(dog)  # Output: Woof!\n",
    "animal_sound(cat)  # Output: Meow!\n",
    "animal_sound(duck)  # Output: Quack!\n"
   ]
  },
  {
   "cell_type": "markdown",
   "metadata": {},
   "source": [
    "# Static Method and static variable "
   ]
  },
  {
   "cell_type": "code",
   "execution_count": 14,
   "metadata": {},
   "outputs": [
    {
     "name": "stdout",
     "output_type": "stream",
     "text": [
      "Addition: 30\n",
      "Multiplication: 200\n",
      "Static variable or Class variable: PIAIC\n"
     ]
    }
   ],
   "source": [
    "# Define a class named MathOperations\n",
    "class MathOperations:\n",
    "\n",
    "    # Class variables (static variables) shared by all instances of the class\n",
    "    counter: int = 100\n",
    "    organization: str = \"PIAIC\"\n",
    "\n",
    "    # Static method to add two numbers\n",
    "    @staticmethod\n",
    "    def add(x: int, y: int) -> int:\n",
    "        \"\"\"Add two numbers.\"\"\"\n",
    "        return x + y\n",
    "\n",
    "    # Static method to multiply two numbers\n",
    "    @staticmethod\n",
    "    def multiply(x: int, y: int) -> int:\n",
    "        \"\"\"Multiply two numbers.\"\"\"\n",
    "        return x * y\n",
    "\n",
    "# Using the static methods\n",
    "result_add = MathOperations.add(10, 20)  # Calls the add method with arguments 10 and 20\n",
    "result_multiply = MathOperations.multiply(10, 20)  # Calls the multiply method with arguments 10 and 20\n",
    "\n",
    "# Print the results\n",
    "print(\"Addition:\", result_add)  # Output: Addition: 30\n",
    "print(\"Multiplication:\", result_multiply)  # Output: Multiplication: 200\n",
    "\n",
    "# Accessing the class variable\n",
    "print(\"Static variable or Class variable:\", MathOperations.organization)  # Output: Static variable or Class variable: PIAIC\n"
   ]
  },
  {
   "cell_type": "markdown",
   "metadata": {},
   "source": [
    "# Everything is an Object\n",
    "https://www.codingninjas.com/studio/library/how-everything-in-python-is-an-object"
   ]
  },
  {
   "cell_type": "markdown",
   "metadata": {},
   "source": []
  }
 ],
 "metadata": {
  "kernelspec": {
   "display_name": "base",
   "language": "python",
   "name": "python3"
  },
  "language_info": {
   "codemirror_mode": {
    "name": "ipython",
    "version": 3
   },
   "file_extension": ".py",
   "mimetype": "text/x-python",
   "name": "python",
   "nbconvert_exporter": "python",
   "pygments_lexer": "ipython3",
   "version": "3.11.5"
  }
 },
 "nbformat": 4,
 "nbformat_minor": 2
}
